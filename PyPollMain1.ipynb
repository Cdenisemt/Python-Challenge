{
 "cells": [
  {
   "cell_type": "code",
   "execution_count": 16,
   "id": "f3ac96e5-be6a-490e-9539-ccebf318ab92",
   "metadata": {},
   "outputs": [
    {
     "ename": "FileNotFoundError",
     "evalue": "[Errno 2] No such file or directory: '..\\\\Resources\\\\election_data.csv'",
     "output_type": "error",
     "traceback": [
      "\u001b[1;31m---------------------------------------------------------------------------\u001b[0m",
      "\u001b[1;31mFileNotFoundError\u001b[0m                         Traceback (most recent call last)",
      "Cell \u001b[1;32mIn[16], line 15\u001b[0m\n\u001b[0;32m     11\u001b[0m csv_path \u001b[38;5;241m=\u001b[39m Path(\u001b[38;5;124m\"\u001b[39m\u001b[38;5;124melection_data.csv\u001b[39m\u001b[38;5;124m\"\u001b[39m)\n\u001b[0;32m     13\u001b[0m \u001b[38;5;66;03m#read the csv file and collect votes \u001b[39;00m\n\u001b[1;32m---> 15\u001b[0m \u001b[38;5;28;01mwith\u001b[39;00m \u001b[38;5;28;43mopen\u001b[39;49m\u001b[43m \u001b[49m\u001b[43m(\u001b[49m\u001b[43melection_data_csv\u001b[49m\u001b[43m)\u001b[49m \u001b[38;5;28;01mas\u001b[39;00m csvfile:\n\u001b[0;32m     16\u001b[0m     csvreader \u001b[38;5;241m=\u001b[39m csv\u001b[38;5;241m.\u001b[39mreader(csvfile, delimiter\u001b[38;5;241m=\u001b[39m\u001b[38;5;124m'\u001b[39m\u001b[38;5;124m,\u001b[39m\u001b[38;5;124m'\u001b[39m)\n\u001b[0;32m     18\u001b[0m \u001b[38;5;66;03m#initialize variables\u001b[39;00m\n",
      "File \u001b[1;32m~\\anaconda3\\envs\\dev\\lib\\site-packages\\IPython\\core\\interactiveshell.py:324\u001b[0m, in \u001b[0;36m_modified_open\u001b[1;34m(file, *args, **kwargs)\u001b[0m\n\u001b[0;32m    317\u001b[0m \u001b[38;5;28;01mif\u001b[39;00m file \u001b[38;5;129;01min\u001b[39;00m {\u001b[38;5;241m0\u001b[39m, \u001b[38;5;241m1\u001b[39m, \u001b[38;5;241m2\u001b[39m}:\n\u001b[0;32m    318\u001b[0m     \u001b[38;5;28;01mraise\u001b[39;00m \u001b[38;5;167;01mValueError\u001b[39;00m(\n\u001b[0;32m    319\u001b[0m         \u001b[38;5;124mf\u001b[39m\u001b[38;5;124m\"\u001b[39m\u001b[38;5;124mIPython won\u001b[39m\u001b[38;5;124m'\u001b[39m\u001b[38;5;124mt let you open fd=\u001b[39m\u001b[38;5;132;01m{\u001b[39;00mfile\u001b[38;5;132;01m}\u001b[39;00m\u001b[38;5;124m by default \u001b[39m\u001b[38;5;124m\"\u001b[39m\n\u001b[0;32m    320\u001b[0m         \u001b[38;5;124m\"\u001b[39m\u001b[38;5;124mas it is likely to crash IPython. If you know what you are doing, \u001b[39m\u001b[38;5;124m\"\u001b[39m\n\u001b[0;32m    321\u001b[0m         \u001b[38;5;124m\"\u001b[39m\u001b[38;5;124myou can use builtins\u001b[39m\u001b[38;5;124m'\u001b[39m\u001b[38;5;124m open.\u001b[39m\u001b[38;5;124m\"\u001b[39m\n\u001b[0;32m    322\u001b[0m     )\n\u001b[1;32m--> 324\u001b[0m \u001b[38;5;28;01mreturn\u001b[39;00m io_open(file, \u001b[38;5;241m*\u001b[39margs, \u001b[38;5;241m*\u001b[39m\u001b[38;5;241m*\u001b[39mkwargs)\n",
      "\u001b[1;31mFileNotFoundError\u001b[0m: [Errno 2] No such file or directory: '..\\\\Resources\\\\election_data.csv'"
     ]
    }
   ],
   "source": [
    "#imports \n",
    "import os\n",
    "import csv\n",
    "from pathlib import Path \n",
    "from collections import Counter \n",
    "\n",
    "#file paths \n",
    "election_data_csv=os.path.join(\"..\", 'Resources', 'election_data.csv')\n",
    "output_path = os.path.join(\"..\", \"output\", \"election_results.txt\")\n",
    "\n",
    "csv_path = Path(\"election_data.csv\")\n",
    "\n",
    "#read the csv file and collect votes \n",
    "\n",
    "with open (election_data_csv) as csvfile:\n",
    "    csvreader = csv.reader(csvfile, delimiter=',')\n",
    "    \n",
    "#initialize variables\n",
    "\n",
    "total_votes = 0\n",
    "canditate = []\n",
    "\n",
    "# process each vote \n",
    "\n",
    "for row in csvreader:\n",
    "    total_votes+= 1\n",
    "    candidates.append(row[2])\n",
    "\n",
    "#calculate vote counts and percentages\n",
    "\n",
    "vote_counts = Counter(candidates)\n",
    "results = []\n",
    "\n",
    "for candidate, votes in vote_counts.items():\n",
    "    percentage = (votes/total_votes)*100\n",
    "    results.append({\n",
    "        'name':candidate,\n",
    "        'votes':votes, \n",
    "        'percentage': percentage\n",
    "    })\n",
    "\n",
    "#find the winner\n",
    "\n",
    "winner = max(results, key=lambda x:x['votes'])\n",
    "\n",
    "#prepare the analysis output\n",
    "\n",
    "analysis=f\"\"\"Election Results\n",
    "-----------------------------\n",
    "Total Votes: {total_votes}\n",
    "-----------------------------\"\"\"\n",
    "\n",
    "#add each candidates results\n",
    "for candidate in results:\n",
    "    analysis += f\"\\n{candidate['name']}: {candidate['percentage']:.3}% ({candidate['votes']})\"\n",
    "\n",
    "analysis += f\"\"\"\n",
    "-----------------------------\n",
    "Winner: {winner['name']}\n",
    "-----------------------------\"\"\"\n",
    "\n",
    "#print analysis to terminal\n",
    "\n",
    "print(analysis)\n",
    "\n",
    "#export analysis to text file\n",
    "with output_path.open(\"w\") as file:\n",
    "    file.write(analysis)\n",
    "\n",
    "print(f\"\\nResults have been exported to {output_path}\")\n",
    "\n"
   ]
  },
  {
   "cell_type": "code",
   "execution_count": null,
   "id": "30c86772-7540-4149-8e69-a41984faa5ed",
   "metadata": {},
   "outputs": [],
   "source": []
  }
 ],
 "metadata": {
  "kernelspec": {
   "display_name": "Python 3 (ipykernel)",
   "language": "python",
   "name": "python3"
  },
  "language_info": {
   "codemirror_mode": {
    "name": "ipython",
    "version": 3
   },
   "file_extension": ".py",
   "mimetype": "text/x-python",
   "name": "python",
   "nbconvert_exporter": "python",
   "pygments_lexer": "ipython3",
   "version": "3.10.14"
  }
 },
 "nbformat": 4,
 "nbformat_minor": 5
}
